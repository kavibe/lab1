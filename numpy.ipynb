{
  "cells": [
    {
      "cell_type": "markdown",
      "metadata": {
        "id": "vC84e9kzyxPy"
      },
      "source": [
        "<h1>Импорт библиотек"
      ]
    },
    {
      "cell_type": "code",
      "execution_count": 1,
      "metadata": {
        "id": "cgKeNegmQG5S"
      },
      "outputs": [],
      "source": [
        "import numpy as np\n",
        "import matplotlib.pyplot as plt"
      ]
    },
    {
      "cell_type": "markdown",
      "metadata": {
        "id": "qFM9uVU2x4Ls"
      },
      "source": [
        "<h1>Задача 1. Дан набор из $p$ матриц размерностью $(n, n)$ и $p$ векторов размерностью $(n, 1)$, найти сумму произведений матриц на векторы. Написать тесты для кода"
      ]
    },
    {
      "cell_type": "code",
      "execution_count": 3,
      "metadata": {
        "id": "IAbUvEiYyWFF"
      },
      "outputs": [],
      "source": [
        "def sum_prod(X, V):\n",
        "    sumArr = np.ones((X[0].shape[0], 1))\n",
        "\n",
        "    for i in range(len(X)):\n",
        "        sumArr+=X[i]@V[i]\n",
        "    \n",
        "    return sumArr"
      ]
    },
    {
      "cell_type": "markdown",
      "metadata": {
        "id": "TKwPG4fIy2w4"
      },
      "source": [
        "<h1>Задача 2. Дана матрица M, напишите функцию, которая бинаризует матрицу по некоторому threshold (то есть, все значения большие threshold становятся равными 1, иначе 0). Напишите тесты для кода"
      ]
    },
    {
      "cell_type": "code",
      "execution_count": 10,
      "metadata": {
        "id": "KQDNMgsjRNH7"
      },
      "outputs": [
        {
          "name": "stdout",
          "output_type": "stream",
          "text": [
            "[[1. 1. 1.]\n",
            " [0. 0. 1.]]\n"
          ]
        }
      ],
      "source": [
        "def binarize(M, threshold=0.5):\n",
        "    for i in range(len(M[0, :])):\n",
        "        for k in range(len(M[:, 0])):\n",
        "            if M[k, i] > threshold:\n",
        "                M[k, i] = 1\n",
        "                continue\n",
        "            \n",
        "            M[k, i] = 0\n",
        "    \n",
        "    return M\n",
        "\n",
        "a = np.array([[1, 1, 2], [0.1, 0.5, 2]])\n",
        "print(binarize(a, 0.5))"
      ]
    },
    {
      "cell_type": "markdown",
      "metadata": {
        "id": "IY5L-h-7zWhN"
      },
      "source": [
        "<h1>Задача 3. Напишите функцию, которая возвращает уникальные элементы из каждой строки матрицы. Напишите такую же функцию, но для столбцов. Напишите тесты для кода"
      ]
    },
    {
      "cell_type": "code",
      "execution_count": 18,
      "metadata": {
        "id": "-8dEZhR0SBC-"
      },
      "outputs": [
        {
          "name": "stdout",
          "output_type": "stream",
          "text": [
            "[{0.1, 1.0}, {0.5, 1.0}, {2.0}]\n"
          ]
        }
      ],
      "source": [
        "def unique_rows(mat):\n",
        "    M = list()\n",
        "    \n",
        "    for k in range(len(mat[:, 0])):\n",
        "        S = set()\n",
        "        for i in mat[k, :]:\n",
        "            S.add(i)\n",
        "\n",
        "        M.append(S)\n",
        "    \n",
        "    return M\n",
        "\n",
        "def unique_columns(mat):\n",
        "    M = list()\n",
        "    \n",
        "    for k in range(len(mat[0, :])):\n",
        "        S = set()\n",
        "        for i in mat[:, k]:\n",
        "            S.add(i)\n",
        "\n",
        "        M.append(S)\n",
        "    \n",
        "    return M\n",
        "\n",
        "a = np.array([[1, 1, 2], [0.1, 0.5, 2]])\n",
        "print(unique_columns(a))"
      ]
    },
    {
      "cell_type": "markdown",
      "metadata": {
        "id": "roYAlo4Jz-lH"
      },
      "source": [
        "<h1>Задача 4. Напишите функцию, которая заполняет матрицу с размерами $(m, n)$ случайными числами, распределенными по нормальному закону. Затем считает мат. ожидание и дисперсию для каждого из столбцов и строк, а также строит для каждой строки и столбца гистограмму значений (использовать функцию hist из модуля matplotlib.plot)"
      ]
    },
    {
      "cell_type": "code",
      "execution_count": 19,
      "metadata": {
        "id": "nZK_71hMSQzv"
      },
      "outputs": [
        {
          "name": "stdout",
          "output_type": "stream",
          "text": [
            "(array([1.]), array([-2.86009137, -1.86009137]), <BarContainer object of 1 artists>)\n",
            "(array([1.]), array([-0.39395772,  0.60604228]), <BarContainer object of 1 artists>)\n",
            "(array([1.]), array([-0.45194734,  0.54805266]), <BarContainer object of 1 artists>)\n",
            "(array([1.]), array([-0.49106601,  0.50893399]), <BarContainer object of 1 artists>)\n",
            "(array([1.]), array([-1.54045858, -0.54045858]), <BarContainer object of 1 artists>)\n",
            "(array([1.]), array([0.48801899, 1.48801899]), <BarContainer object of 1 artists>)\n",
            "(array([1.]), array([-1.77158013, -0.77158013]), <BarContainer object of 1 artists>)\n",
            "(array([1.]), array([1.49982752, 2.49982752]), <BarContainer object of 1 artists>)\n"
          ]
        },
        {
          "data": {
            "image/png": "[encoded data removed]",
            "text/plain": [
              "<Figure size 640x480 with 1 Axes>"
            ]
          },
          "metadata": {},
          "output_type": "display_data"
        }
      ],
      "source": [
        "def whaaaaat(m, n):\n",
        "    matrix = np.random.normal(loc=0, scale=1, size=(m, n))\n",
        "\n",
        "    for i in range(len(matrix[:, 0])):\n",
        "        row = matrix[i, :]\n",
        "\n",
        "        meanRow = np.mean(row)\n",
        "        varRow = np.var(row)\n",
        "\n",
        "        print(plt.hist(meanRow, bins='auto', range=None, density=False))\n",
        "        print(plt.hist(varRow, bins='auto', range=None, density=False))\n",
        "\n",
        "\n",
        "    for j in range(len(matrix[0, :])):\n",
        "        column = matrix[:, j]\n",
        "\n",
        "        meanColumn = np.mean(column)\n",
        "        varColumn = np.var(column)\n",
        "\n",
        "        print(plt.hist(meanColumn, bins='auto', range=None, density=False))\n",
        "        print(plt.hist(varColumn, bins='auto', range=None, density=False))\n",
        "\n",
        "whaaaaat(2, 2)\n",
        "    "
      ]
    },
    {
      "cell_type": "markdown",
      "metadata": {
        "id": "BDyATNdM0dJ2"
      },
      "source": [
        "<h1>Задача 5. Напишите функцию, которая заполняет матрицу $(m, n)$ в шахматном порядке заданными числами $a$ и $b$. Напишите тесты для кода"
      ]
    },
    {
      "cell_type": "code",
      "execution_count": 25,
      "metadata": {
        "id": "RWNJYWQGecS6"
      },
      "outputs": [
        {
          "name": "stdout",
          "output_type": "stream",
          "text": [
            "[[5. 6. 5.]\n",
            " [6. 5. 6.]\n",
            " [5. 6. 5.]\n",
            " [6. 5. 6.]]\n"
          ]
        }
      ],
      "source": [
        "def chess(m, n, a, b):\n",
        "    matrix = np.ones((m, n))\n",
        "\n",
        "    for j in range(n):\n",
        "        for i in range(m):\n",
        "            if (i+j)%2 == 0:\n",
        "                matrix[i, j] = a\n",
        "                continue\n",
        "\n",
        "            matrix[i, j] = b\n",
        "\n",
        "    return matrix\n",
        "\n",
        "print(chess(4, 3, 5, 6))"
      ]
    },
    {
      "cell_type": "markdown",
      "metadata": {
        "id": "-ymXLtTN0vB6"
      },
      "source": [
        "<h1>Задача 6. Напишите функцию, которая отрисовывает прямоугольник с заданными размерами (a, b) на изображении размера (m, n), цвет фона задайте в схеме RGB, как и цвет прямоугольника. Цвета также должны быть параметрами функции. Напишите аналогичную функцию но для овала с полуосями a и b. Напишите тесты для кода.\n",
        "Примечание: уравнение эллипса (границы овала) можно записать как:\n",
        "<h1>$\\frac{(x-x_0)^2}{a^2}+\\frac{(y-y_0)^2}{b^2}=1$"
      ]
    },
    {
      "cell_type": "code",
      "execution_count": 11,
      "metadata": {
        "id": "sNfl1t_kfOF4"
      },
      "outputs": [
        {
          "data": {
            "image/png": "[encoded data removed]",
            "text/plain": [
              "<Figure size 640x480 with 1 Axes>"
            ]
          },
          "metadata": {},
          "output_type": "display_data"
        },
        {
          "data": {
            "image/png": "[encoded data removed]",
            "text/plain": [
              "<Figure size 640x480 with 1 Axes>"
            ]
          },
          "metadata": {},
          "output_type": "display_data"
        }
      ],
      "source": [
        "import numpy as np\n",
        "import matplotlib.pyplot as plt\n",
        "\n",
        "def draw_rectangle(a, b, m, n, rectangle_color, background_color):\n",
        "    image = np.zeros((m, n, 3), dtype=np.uint8)\n",
        "    image[:, :] = background_color\n",
        "\n",
        "    image[:a, :b] = rectangle_color\n",
        "\n",
        "    plt.imshow(image)\n",
        "    plt.show()\n",
        "\n",
        "draw_rectangle(5, 5, 10, 6, [1, 0, 0], [255, 0, 0])\n",
        "\n",
        "def draw_ellipse(a, b, m, n, ellipse_color, background_color):\n",
        "    image = np.zeros((m, n, 3), dtype=np.uint8)\n",
        "    image[:, :] = background_color\n",
        "\n",
        "    y_coords, x_coords = np.ogrid[:image.shape[0], :image.shape[1]]\n",
        "    x_centered = x_coords - len(image[0, :])//2\n",
        "    y_centered = y_coords - len(image[:, 0])//2\n",
        "\n",
        "    ellipse_mask = (x_centered**2 / a**2 + y_centered**2 / b**2) <= 1\n",
        "\n",
        "    image[ellipse_mask] = ellipse_color\n",
        "\n",
        "    plt.imshow(image)\n",
        "    plt.show()\n",
        "\n",
        "draw_ellipse(1, 2, 100, 100, [1, 0, 0], [255, 0, 0])"
      ]
    },
    {
      "cell_type": "markdown",
      "metadata": {
        "id": "S82c38oz244H"
      },
      "source": [
        "<h1>Задача 7. Дан некий временной ряд. Для данного ряда нужно найти его: математическое ожидание, дисперсию, СКО, найти все локальные максимумы и минимумы (локальный максимум - это точка, которая больше своих соседних точек, а локальный минимум - это точка, которая меньше своих соседей), а также вычислить для данного ряда другой ряд, получаемый методом скользящего среднего с размером окна $p$.\n",
        "<h1>Примечание: метод скользящего среднего подразумевает нахождение среднего из подмножетсва ряда размером $p$"
      ]
    },
    {
      "cell_type": "code",
      "execution_count": null,
      "metadata": {
        "id": "Zb9mIVge5MMt"
      },
      "outputs": [],
      "source": [
        "def aaa(timeLine, p):\n",
        "    arr = np.array(timeLine)\n",
        "    meanArr = arr.mean(arr)\n",
        "    varArr = arr.var(arr)\n",
        "    stdArr = arr.std(arr)\n",
        "    localMax = (arr[1:-1] > arr[:-2]) & (arr[1:-1] > arr[2:])\n",
        "    localMaxIndices = np.where(localMax)[0] + 1\n",
        "    localMaxValues = arr[localMaxIndices]\n",
        "\n",
        "    localMin = (arr[1:-1] < arr[:-2]) & (arr[1:-1] < arr[2:])\n",
        "    localMinIndices = np.where(localMin)[0] + 1\n",
        "    localMinValues = arr[localMinIndices]\n",
        "\n",
        "    skSrArr=[]\n",
        "    for i in range(len(arr)-p+1):\n",
        "        window = timeLine[i:i + p]\n",
        "        windowAvg = sum(window) / p\n",
        "        skSrArr.append(windowAvg)\n",
        "        \n",
        "\n",
        "    return meanArr, stdArr, varArr, localMaxIndices, localMaxValues, localMinIndices, localMinValues, skSrArr"
      ]
    },
    {
      "cell_type": "markdown",
      "metadata": {
        "id": "jPkylmOX5O9n"
      },
      "source": [
        "<h1> Задача 8. Дан некоторый вектор с целочисленными метками классов, напишите функцию, которая выполняет one-hot-encoding для данного вектора\n",
        "<h1> One-hot-encoding - представление, в котором на месте метки некоторого класса стоит 1, в остальных позициях стоит 0. Например для вектора [0, 2, 3, 0] one-hot-encoding выглядит как: [[1, 0, 0, 0], [0, 0, 1, 0], [0, 0, 0, 1], [1, 0, 0, 0]]"
      ]
    },
    {
      "cell_type": "code",
      "execution_count": 10,
      "metadata": {
        "id": "Y-jlnZvw56lD"
      },
      "outputs": [
        {
          "name": "stdout",
          "output_type": "stream",
          "text": [
            "[[1, 0, 0, 0, 0], [0, 1, 0, 0, 0], [0, 0, 0, 0, 1], [0, 0, 0, 1, 0]]\n"
          ]
        }
      ],
      "source": [
        "import numpy as np\n",
        "import matplotlib.pyplot as plt\n",
        "\n",
        "def OneHotEncodding(vector):\n",
        "    result = list()\n",
        "    for i in vector:\n",
        "        array = list(i for i in range(max(vector)+1))\n",
        "        for j in range(max(vector)+1):\n",
        "            array[j]=0\n",
        "            if i==j:\n",
        "                array[i]=1\n",
        "                continue\n",
        "        \n",
        "        result.append(array)\n",
        "    \n",
        "    return result\n",
        "\n",
        "print(OneHotEncodding(np.array([0, 1, 4, 3])))\n",
        "        \n"
      ]
    }
  ],
  "metadata": {
    "colab": {
      "provenance": []
    },
    "kernelspec": {
      "display_name": "Python 3",
      "name": "python3"
    },
    "language_info": {
      "codemirror_mode": {
        "name": "ipython",
        "version": 3
      },
      "file_extension": ".py",
      "mimetype": "text/x-python",
      "name": "python",
      "nbconvert_exporter": "python",
      "pygments_lexer": "ipython3",
      "version": "3.8.5"
    }
  },
  "nbformat": 4,
  "nbformat_minor": 0
}
