{
  "cells": [
    {
      "cell_type": "markdown",
      "metadata": {
        "id": "M-DGa20PaHnu"
      },
      "source": [
        "#Задача 1\n",
        "Написать функцию на вход которой подается строка, состоящая из латинских букв.\n",
        "Функция должна вернуть количество гласных букв (a, e, i, o, u) в этой строке. Написать тесты для кода"
      ]
    },
    {
      "cell_type": "code",
      "execution_count": 18,
      "metadata": {
        "id": "XvX8X_JJ6PCb"
      },
      "outputs": [
        {
          "name": "stdout",
          "output_type": "stream",
          "text": [
            "7\n"
          ]
        }
      ],
      "source": [
        "glassnye = ['a', 'e', 'i', 'o', 'u']\n",
        "def abc(string):\n",
        "    cnt=0\n",
        "    string = string.lower()\n",
        "    for i in glassnye:\n",
        "        for a in string:\n",
        "            if i==a:\n",
        "                cnt+=1\n",
        "    \n",
        "    return cnt\n",
        "\n",
        "aaa = 'uqwertyaeoae'\n",
        "cnt1=abc(aaa)\n",
        "print(cnt1)"
      ]
    },
    {
      "cell_type": "markdown",
      "metadata": {
        "id": "t2ClV_Y0bbr6"
      },
      "source": [
        "# Задача 2\n",
        "Написать функцию на вход, которой подается строка. Функция должна вернуть true, если\n",
        "каждый символ в строке встречается только 1 раз, иначе должна вернуть false. Написать тесты для кода"
      ]
    },
    {
      "cell_type": "code",
      "execution_count": null,
      "metadata": {
        "id": "FppbECao6VIz"
      },
      "outputs": [
        {
          "name": "stdout",
          "output_type": "stream",
          "text": [
            "False\n"
          ]
        }
      ],
      "source": [
        "# Your code goes here\n",
        "def once(string):\n",
        "    unique = set()\n",
        "    for i in string:\n",
        "        unique.add(i)\n",
        "        \n",
        "    if len(string)==len(unique):\n",
        "            return True\n",
        "    else:\n",
        "        return False\n",
        "\n",
        "print(once('abda'))"
      ]
    },
    {
      "cell_type": "markdown",
      "metadata": {
        "id": "udRiIK1cdt6E"
      },
      "source": [
        "# Задача 3\n",
        "Написать функцию, которая принимает положительное число и возвращает количество\n",
        "бит равных 1 в этом числе. Написать тесты для кода"
      ]
    },
    {
      "cell_type": "code",
      "execution_count": 25,
      "metadata": {
        "id": "6tkfDJRz6dp_"
      },
      "outputs": [
        {
          "name": "stdout",
          "output_type": "stream",
          "text": [
            "2\n"
          ]
        }
      ],
      "source": [
        "# Your code goes here\n",
        "def countBinar(integer):\n",
        "    cnt = 0\n",
        "    binInt = bin(integer)[2:]\n",
        "    for i in binInt:\n",
        "        cnt+=int(i)\n",
        "    return cnt\n",
        "\n",
        "print(countBinar(12))"
      ]
    },
    {
      "cell_type": "markdown",
      "metadata": {
        "id": "26dDUz-Ae17N"
      },
      "source": [
        "# Задача 4\n",
        "Написать функцию, которая принимает положительное число. Функция должна вернуть то,\n",
        "сколько раз необходимо перемножать цифры числа или результат перемножения, чтобы\n",
        "получилось число состоящее из одной цифры.\n",
        "Например, для входного числа:\n",
        "· 39 функция должна вернуть 3, так как 3*9=27 => 2*7=14 => 1*4=4\n",
        "· 4 функция должна вернуть 0, так как число уже состоит из одной цифры\n",
        "· 999 функция должна вернуть 4, так как 9*9*9=729 => 7*2*9=126 => 1*2*6=12 =>\n",
        "1*2=2. Написать тесты для кода"
      ]
    },
    {
      "cell_type": "code",
      "execution_count": 34,
      "metadata": {
        "id": "BH1A_Mgi6i4G"
      },
      "outputs": [
        {
          "name": "stdout",
          "output_type": "stream",
          "text": [
            "3\n",
            "4\n",
            "0\n"
          ]
        }
      ],
      "source": [
        "def magic(n):\n",
        "    count=0\n",
        "    while len(str(n))!=1:\n",
        "        a=1\n",
        "        for i in str(n):\n",
        "            a*=int(i)\n",
        "        n=a\n",
        "        count+=1\n",
        "\n",
        "    return count\n",
        "\n",
        "print(magic(39))\n",
        "print(magic(999))\n",
        "print(magic(4))"
      ]
    },
    {
      "cell_type": "markdown",
      "metadata": {
        "id": "0nS-kIa8g8vd"
      },
      "source": [
        "# Задача 5\n",
        "Написать функцию, которая принимает два целочисленных вектора одинаковой длины и\n",
        "возвращает среднеквадратическое отклонение двух векторов. Написать тесты для кода"
      ]
    },
    {
      "cell_type": "code",
      "execution_count": null,
      "metadata": {
        "id": "8iphx4LM6xbx"
      },
      "outputs": [],
      "source": [
        "def mse(vec1, vec2):\n",
        "    summa=0\n",
        "    for i in len(vec1):\n",
        "        a = (vec1[i]-vec2[i])**2\n",
        "        summa+=a\n",
        "    \n",
        "    return summa/len(vec1)\n",
        "\n",
        "        "
      ]
    },
    {
      "cell_type": "markdown",
      "metadata": {
        "id": "vpIPKL439zkw"
      },
      "source": [
        "# Задача 6\n",
        "Написать функцию, принимающая целое положительное число. Функция должна вернуть\n",
        "строку вида “(n1**p1)(n2**p2)…(nk**pk)” представляющая разложение числа на простые\n",
        "множители (если pi == 1, то выводить только ni).\n",
        "Например, для числа 86240 функция должна вернуть “(2**5)(5)(7**2)(11)”. Написать тесты для кода"
      ]
    },
    {
      "cell_type": "code",
      "execution_count": null,
      "metadata": {
        "id": "pFebmcZk94Jw"
      },
      "outputs": [
        {
          "name": "stdout",
          "output_type": "stream",
          "text": [
            "\n"
          ]
        }
      ],
      "source": []
    },
    {
      "cell_type": "markdown",
      "metadata": {
        "id": "ps2s0BudX7A2"
      },
      "source": [
        "# Задача 7\n",
        "Написать функцию, принимающая целое число n, задающее количество кубиков. Функция\n",
        "должна определить, можно ли из данного кол-ва кубиков построить пирамиду, то есть\n",
        "можно ли представить число n как 1^2+2^2+3^2+…+k^2. Если можно, то функция должна\n",
        "вернуть k, иначе строку “It is impossible”. Написать тесты для кода"
      ]
    },
    {
      "cell_type": "code",
      "execution_count": 5,
      "metadata": {
        "id": "3YPjEXxhX_YT"
      },
      "outputs": [
        {
          "name": "stdout",
          "output_type": "stream",
          "text": [
            "It is impossible\n",
            "12\n"
          ]
        }
      ],
      "source": [
        "def pyramid(number):\n",
        "    sum = 0\n",
        "    for k in range(1, number+1):\n",
        "        sum += k**2\n",
        "        if sum > number:\n",
        "            return 'It is impossible'\n",
        "        elif sum < number:\n",
        "            continue\n",
        "        elif sum == number:\n",
        "            return k\n",
        "        \n",
        "print(pyramid(12))\n",
        "print(pyramid(650))"
      ]
    },
    {
      "cell_type": "markdown",
      "metadata": {
        "id": "KeKgmIdAQMEJ"
      },
      "source": [
        "# Задача 8\n",
        "Функция принимает на вход положительное число и определяет является ли оно сбалансированным, т.е. сумма цифр до средних равна сумме цифр после. Средними в случае нечетного числа цифр считать одну цифру, в случае четного - две средних. Написать тесты для кода"
      ]
    },
    {
      "cell_type": "code",
      "execution_count": 18,
      "metadata": {
        "id": "gMAAqtqlQrZt"
      },
      "outputs": [
        {
          "name": "stdout",
          "output_type": "stream",
          "text": [
            "False\n"
          ]
        }
      ],
      "source": [
        "def isBalance(number):\n",
        "    part1=0\n",
        "    part2=0\n",
        "    if len(str(number)) % 2 == 0:\n",
        "        for i in range(len(str(number)) // 2 - 1):\n",
        "            part1 += int(str(number)[i])\n",
        "\n",
        "        for k in range(len(str(number)) // 2 + 1, len(str(number))):\n",
        "            part2 += int(str(number)[k])\n",
        "\n",
        "        \n",
        "    \n",
        "    if len(str(number)) % 2 != 0:\n",
        "        for i in range(len(str(number)) // 2):\n",
        "            part1 += int(str(number)[i])\n",
        "\n",
        "        for k in range(len(str(number)) // 2 + 1, len(str(number))):\n",
        "            part2 += int(str(number)[k])\n",
        "\n",
        "    if part1 == part2:\n",
        "            return True\n",
        "        \n",
        "    return False\n",
        "\n",
        "print(isBalance(35223))"
      ]
    }
  ],
  "metadata": {
    "colab": {
      "provenance": []
    },
    "kernelspec": {
      "display_name": "Python 3",
      "name": "python3"
    },
    "language_info": {
      "codemirror_mode": {
        "name": "ipython",
        "version": 3
      },
      "file_extension": ".py",
      "mimetype": "text/x-python",
      "name": "python",
      "nbconvert_exporter": "python",
      "pygments_lexer": "ipython3",
      "version": "3.8.5"
    }
  },
  "nbformat": 4,
  "nbformat_minor": 0
}
